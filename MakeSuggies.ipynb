{
 "cells": [
  {
   "cell_type": "markdown",
   "id": "described-mistake",
   "metadata": {},
   "source": [
    "# Generate Interesting Improv bot suggestions"
   ]
  },
  {
   "cell_type": "code",
   "execution_count": 55,
   "id": "union-liberty",
   "metadata": {},
   "outputs": [],
   "source": [
    "from tqdm.notebook import trange, tqdm\n",
    "import itertools\n",
    "import more_itertools\n",
    "import sys\n",
    "from collections import defaultdict"
   ]
  },
  {
   "cell_type": "code",
   "execution_count": 36,
   "id": "stunning-brighton",
   "metadata": {},
   "outputs": [
    {
     "name": "stdout",
     "output_type": "stream",
     "text": [
      "Loaded 7700 words\n"
     ]
    }
   ],
   "source": [
    "def load_word_list(filename):\n",
    "    with open(filename) as f:\n",
    "        return [line.strip() for line in f]\n",
    "\n",
    "words = load_word_list('google-10000-english-usa-no-swears-medium.txt')\n",
    "words = words + load_word_list('google-10000-english-usa-no-swears-long.txt')\n",
    "print('Loaded {} words'.format(len(words)))\n",
    "    "
   ]
  },
  {
   "cell_type": "markdown",
   "id": "parliamentary-korea",
   "metadata": {},
   "source": [
    "## Load Spacy for NLP\n",
    "This part can be slow, we'll load spacy and do part of speech tagging on all the words."
   ]
  },
  {
   "cell_type": "code",
   "execution_count": 6,
   "id": "atomic-difficulty",
   "metadata": {},
   "outputs": [],
   "source": [
    "import spacy\n",
    "nlp = spacy.load(\"en_core_web_sm\")           # load model package \"en_core_web_sm\"\n"
   ]
  },
  {
   "cell_type": "code",
   "execution_count": 37,
   "id": "aggressive-monthly",
   "metadata": {},
   "outputs": [
    {
     "data": {
      "application/vnd.jupyter.widget-view+json": {
       "model_id": "cf515acb2e6a4ac18e52b4f9a43bd1b0",
       "version_major": 2,
       "version_minor": 0
      },
      "text/plain": [
       "  0%|          | 0/7700 [00:00<?, ?it/s]"
      ]
     },
     "metadata": {},
     "output_type": "display_data"
    }
   ],
   "source": [
    "tagged_words = []\n",
    "for word in tqdm(words):\n",
    "    doc = nlp(word)\n",
    "    # part of speech is most general, tag is more specific\n",
    "    tagged_words.append([word, doc[0].pos_, doc[0].tag_])"
   ]
  },
  {
   "cell_type": "code",
   "execution_count": 58,
   "id": "satisfied-singles",
   "metadata": {},
   "outputs": [],
   "source": [
    "# Load POS tags for reading\n",
    "pos_descriptions = defaultdict(str)\n",
    "with open('pos_tags.txt') as f:\n",
    "    for line in f:\n",
    "        parts = line.split(\"\\t\")\n",
    "        if len(parts) == 4:\n",
    "            pos_descriptions[parts[0]] = parts[3].strip()"
   ]
  },
  {
   "cell_type": "code",
   "execution_count": 60,
   "id": "organized-visit",
   "metadata": {},
   "outputs": [
    {
     "name": "stdout",
     "output_type": "stream",
     "text": [
      "Group: PROPN - NNP (noun, proper singular) 2134\n",
      "health world january united center store national reserved south house county american download north white account digital reply december canada english windows thread october november series model forums march yahoo server april street standard mobile party login social august america \n",
      "\n",
      "Group: NOUN - NN (noun, singular or mass) 1804\n",
      "search contact business service price state email music product system policy number support message software video school review order privacy company group research program hotel travel report member office design internet address phone shipping forum family website index today project \n",
      "\n",
      "Group: NOUN - NNS (noun, plural) 1385\n",
      "services people products rights books links years items reviews games comments details terms hotels results states prices women pages sports members systems posts media pictures children students times sites events hours tools movies sales photos features articles issues users things \n",
      "\n",
      "Group: ADJ - JJ (adjective) 723\n",
      "other online public general great right local subject black special total current personal small previous private little advanced large human second medical complete legal recent young single possible major similar popular original archive green close common specific several short limited \n",
      "\n",
      "Group: VERB - VBN (verb, past participle) 435\n",
      "posted based found related provided required given become added listed updated powered written included received taken known designed created needed asked shown located featured wanted built involved rated selected joined expected proposed reported modified released detailed approved defined offered fixed \n",
      "\n",
      "Group: VERB - VBG (verb, gerund or present participle) 356\n",
      "using listing going looking working building making learning having living hosting reading getting doing running taking coming starting existing trying leading dating mailing buying moving playing showing setting selling giving ending thinking driving creating growing hearing finding saying talking missing \n",
      "\n",
      "Group: VERB - VB (verb, base form) 288\n",
      "click check think guide profile visit compare provide learn select register start create result write offer release enter drive cover watch choose receive remember increase build continue apply believe mature leave score follow allow cause answer improve ensure bring develop \n",
      "\n",
      "Group: ADV - RB (adverb) 231\n",
      "there first still around however really again never above always further already daily early usually together often later overall inside rather actually outside almost prior simply recently probably quite forward directly instead likely behind maybe finally fully highly perhaps easily \n",
      "\n",
      "Group: VERB - VBD (verb, past tense) 73\n",
      "called thought started wrote applied began worked became returned decided ended looked failed agreed happened enabled showed helped seemed loved occurred lived appeared checked arrived stopped revealed cached attended dropped declared spoke remained walked claimed voted pulled resulted stayed talked \n",
      "\n",
      "Group: VERB - VBZ (verb, 3rd person singular present) 73\n",
      "offers includes provides means makes comes takes seems contains allows requires gives follows appears wants feeds helps becomes remains knows starts begins happens stands depends holds exists meets brings turns applies occurs consists tells creates suggests serves writes opens keeps \n",
      "\n",
      "Group: PROPN - NNPS (noun, proper plural) 36\n",
      "keywords updates comics albums foods gardens seminars gadgets titans jeans permits contests holdings indians streams males socks olympics legends plains muslims indexes remedies draws assists promotes constitutes americans mechanisms democrats essentials christians republicans championships architects specifies \n",
      "\n",
      "Group: ADP - IN (conjunction, subordinating or preposition) 23\n",
      "about after through under before within between without during against below until along among across beyond towards toward const unlike amongst beneath throughout \n",
      "\n",
      "Group: ADJ - JJR (adjective, comparative) 21\n",
      "higher lower larger greater older easier smaller worse bigger younger cleaner fewer stronger cheaper wider newer lighter shorter lesser broader safer \n",
      "\n",
      "Group: ADJ - JJS (adjective, superlative) 20\n",
      "latest least highest largest lowest greatest newest biggest worst oldest nearest finest cheapest hottest fastest soonest closest longest earliest smallest \n",
      "\n",
      "Group: NUM - CD (cardinal number) 14\n",
      "three million seven eight billion twenty hundred thousand thirty twelve fifty forty fifteen eleven \n",
      "\n",
      "Group: PRON - NN (noun, singular or mass) 11\n",
      "someone anything anyone nothing everyone nobody somebody anybody something everything everybody \n",
      "\n",
      "Group: SCONJ - IN (conjunction, subordinating or preposition) 11\n",
      "because while since whether though although unless except despite whereas besides \n",
      "\n",
      "Group: ADV - RBR (adverb, comparative) 9\n",
      "better longer earlier faster closer heather harder deeper converter \n",
      "\n",
      "Group: INTJ - UH (interjection) 9\n",
      "please quote welcome thanks homepage sorry hello anyway yours \n",
      "\n",
      "Group: PRON - PRP (pronoun, personal) 7\n",
      "yourself itself himself myself herself themselves ourselves \n",
      "\n",
      "Group: VERB - MD (verb, modal auxiliary) 6\n",
      "would should could shall might ought \n",
      "\n",
      "Group: DET - DT (determiner) 5\n",
      "these those another every thats \n",
      "\n",
      "Group: X - FW (foreign word) 5\n",
      "forgot bytes gratis versus corps \n",
      "\n",
      "Group: X - XX (unknown) 5\n",
      "finland dicke whilst kelkoo acknowledge \n",
      "\n",
      "Group: ADV - WRB (wh-adverb) 3\n",
      "where whenever wherever \n",
      "\n",
      "Group: CCONJ - CC (conjunction, coordinating) 3\n",
      "either neither minus \n",
      "\n",
      "Group: VERB - VBP (verb, non-3rd person singular present) 3\n",
      "include thank involve \n",
      "\n",
      "Group: DET - WDT (wh-determiner) 2\n",
      "which whatever \n",
      "\n",
      "Group: AUX - VBG (verb, gerund or present participle) 1\n",
      "being \n",
      "\n",
      "Group: DET - PRP$ (pronoun, possessive) 1\n",
      "their \n",
      "\n",
      "Group: DET - WP$ (wh-pronoun, possessive) 1\n",
      "whose \n",
      "\n",
      "Group: PRON - WP (wh-pronoun, personal) 1\n",
      "whats \n",
      "\n",
      "Group: X - LS (list item marker) 1\n",
      "overview \n",
      "\n"
     ]
    }
   ],
   "source": [
    "# Output words in each POS so we can see which ones we like\n",
    "def clamp(n, smallest, largest): return max(smallest, min(n, largest))\n",
    "\n",
    "words_by_pos = sorted(tagged_words, key=lambda w: (w[1], w[2]))\n",
    "by_pos = itertools.groupby(words_by_pos, lambda w: (w[1], w[2]))\n",
    "materialized_by_pos = [(group, list(items)) for group, items in by_pos]\n",
    "                        \n",
    "for group, items in sorted(materialized_by_pos, key=lambda p: -len(p[1])):\n",
    "    itemlist = list(items)\n",
    "    print('Group: ' + group[0] + ' - ' + group[1] + ' (' + pos_descriptions[group[1]] + ') ' + str(len(itemlist)))\n",
    "    \n",
    "    for item in more_itertools.take(40, itemlist):\n",
    "        sys.stdout.write(item[0])\n",
    "        sys.stdout.write(' ')\n",
    "    sys.stdout.write(\"\\n\\n\")\n",
    "\n",
    "sys.stdout.flush()"
   ]
  }
 ],
 "metadata": {
  "kernelspec": {
   "display_name": "Python 3",
   "language": "python",
   "name": "python3"
  },
  "language_info": {
   "codemirror_mode": {
    "name": "ipython",
    "version": 3
   },
   "file_extension": ".py",
   "mimetype": "text/x-python",
   "name": "python",
   "nbconvert_exporter": "python",
   "pygments_lexer": "ipython3",
   "version": "3.9.0"
  }
 },
 "nbformat": 4,
 "nbformat_minor": 5
}
